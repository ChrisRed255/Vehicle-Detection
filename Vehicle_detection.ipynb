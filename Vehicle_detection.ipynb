{
  "nbformat": 4,
  "nbformat_minor": 0,
  "metadata": {
    "colab": {
      "name": "Vehicle detection.ipynb",
      "version": "0.3.2",
      "provenance": [],
      "collapsed_sections": [],
      "toc_visible": true,
      "include_colab_link": true
    },
    "kernelspec": {
      "name": "python3",
      "display_name": "Python 3"
    },
    "accelerator": "GPU"
  },
  "cells": [
    {
      "cell_type": "markdown",
      "metadata": {
        "id": "view-in-github",
        "colab_type": "text"
      },
      "source": [
        "<a href=\"https://colab.research.google.com/github/ChrisRed255/Vehicle-Detection/blob/master/Vehicle_detection.ipynb\" target=\"_parent\"><img src=\"https://colab.research.google.com/assets/colab-badge.svg\" alt=\"Open In Colab\"/></a>"
      ]
    },
    {
      "cell_type": "markdown",
      "metadata": {
        "id": "3CZ-WBoQCpB7",
        "colab_type": "text"
      },
      "source": [
        "# Vehicle detection algorithm"
      ]
    },
    {
      "cell_type": "markdown",
      "metadata": {
        "id": "8q4ON9ZxDB2z",
        "colab_type": "text"
      },
      "source": [
        "**Import packages**"
      ]
    },
    {
      "cell_type": "code",
      "metadata": {
        "id": "U2N4toxdDFJv",
        "colab_type": "code",
        "colab": {}
      },
      "source": [
        "import numpy as np\n",
        "import matplotlib.pyplot as plt\n",
        "import os\n",
        "import random\n",
        "import keras\n",
        "import pickle\n",
        "import cv2\n",
        "import tensorflow as tf\n",
        "from tensorflow.keras.models import Sequential\n",
        "from tensorflow.keras.layers import Dense,Dropout,Activation,Flatten,Conv2D,MaxPooling2D"
      ],
      "execution_count": 0,
      "outputs": []
    },
    {
      "cell_type": "markdown",
      "metadata": {
        "id": "OUuRRb_ADJha",
        "colab_type": "text"
      },
      "source": [
        "**Prepare data for model**"
      ]
    },
    {
      "cell_type": "code",
      "metadata": {
        "id": "UWEaMbigDJrm",
        "colab_type": "code",
        "colab": {}
      },
      "source": [
        "DATADIR = os.path.join(os.getcwd(),os.path.join(\"Workspace\",\"train\"))\n",
        "CATEGORY = ['Car','Landscape']\n",
        "IMG_SIZE = 400\n",
        "training_data =[]\n",
        "\n",
        "def create_training_data():\n",
        "  print(\"Processing ...\\n\\n\")\n",
        "  for category in CATEGORY:\n",
        "    path = os.path.join(DATADIR,category)\n",
        "    class_num = CATEGORY.index(category)\n",
        "    for img in os.listdir(path):\n",
        "      try:\n",
        "        img_array = cv2.imread(os.path.join(path,img),cv2.IMREAD_COLOR)\n",
        "        new_array = cv2.resize(img_array,(IMG_SIZE,IMG_SIZE))\n",
        "        training_data.append([new_array,class_num])\n",
        "      except Exception as e:\n",
        "        print(\"because of the category :\"+category+\", file : \"+img+\"\\n\"+str(e))\n",
        "  print(\"Processed successfully !\\n\\n\")\n",
        "\n",
        "create_training_data()"
      ],
      "execution_count": 0,
      "outputs": []
    },
    {
      "cell_type": "markdown",
      "metadata": {
        "id": "jR3EuNAVDYAs",
        "colab_type": "text"
      },
      "source": [
        "**Shuffle data**"
      ]
    },
    {
      "cell_type": "code",
      "metadata": {
        "id": "MVc4mXXjDYMH",
        "colab_type": "code",
        "colab": {}
      },
      "source": [
        "for i in range(0,6):\n",
        "  random.shuffle(training_data)"
      ],
      "execution_count": 0,
      "outputs": []
    },
    {
      "cell_type": "markdown",
      "metadata": {
        "id": "5HiOSY5ODcui",
        "colab_type": "text"
      },
      "source": [
        "**Create matrix X that holds features and matrix Y that holds labels**"
      ]
    },
    {
      "cell_type": "code",
      "metadata": {
        "id": "j9asaJ_jDqIk",
        "colab_type": "code",
        "colab": {}
      },
      "source": [
        "X = []\n",
        "y = []\n",
        "\n",
        "for features,label in training_data:\n",
        "  X.append(features)\n",
        "  y.append(label)"
      ],
      "execution_count": 0,
      "outputs": []
    },
    {
      "cell_type": "markdown",
      "metadata": {
        "id": "uTBA4CxwD4KL",
        "colab_type": "text"
      },
      "source": [
        "**Reshape the features matrix**"
      ]
    },
    {
      "cell_type": "code",
      "metadata": {
        "colab_type": "code",
        "id": "qxebXl9Iy0Nc",
        "outputId": "c8b4e104-ec49-4abc-a066-b5a61b257bf1",
        "colab": {
          "base_uri": "https://localhost:8080/",
          "height": 34
        }
      },
      "source": [
        "X.shape"
      ],
      "execution_count": 0,
      "outputs": [
        {
          "output_type": "execute_result",
          "data": {
            "text/plain": [
              "(4718, 400, 400, 3)"
            ]
          },
          "metadata": {
            "tags": []
          },
          "execution_count": 12
        }
      ]
    },
    {
      "cell_type": "code",
      "metadata": {
        "id": "l7q3fp4wD5zY",
        "colab_type": "code",
        "colab": {}
      },
      "source": [
        "X = np.array(X).reshape(-1,IMG_SIZE,IMG_SIZE,3)"
      ],
      "execution_count": 0,
      "outputs": []
    },
    {
      "cell_type": "markdown",
      "metadata": {
        "id": "85ROhfeaEDrF",
        "colab_type": "text"
      },
      "source": [
        "**Save X and Y into pickle file to use it after**"
      ]
    },
    {
      "cell_type": "code",
      "metadata": {
        "id": "fVqHGT2mED2i",
        "colab_type": "code",
        "colab": {}
      },
      "source": [
        "pickle_out = open(\"X.pickle\",\"wb\")\n",
        "pickle.dump(X, pickle_out)\n",
        "pickle_out.close()\n",
        "\n",
        "pickle_out = open(\"y.pickle\",\"wb\")\n",
        "pickle.dump(y, pickle_out)\n",
        "pickle_out.close()"
      ],
      "execution_count": 0,
      "outputs": []
    },
    {
      "cell_type": "markdown",
      "metadata": {
        "id": "JGnuzEflEMQw",
        "colab_type": "text"
      },
      "source": [
        "**Load pickle data X and Y**"
      ]
    },
    {
      "cell_type": "code",
      "metadata": {
        "id": "Fk37_0dTEMbA",
        "colab_type": "code",
        "colab": {}
      },
      "source": [
        "X = pickle.load(open(\"X.pickle\",\"rb\"))\n",
        "y = pickle.load(open(\"y.pickle\",\"rb\"))"
      ],
      "execution_count": 0,
      "outputs": []
    },
    {
      "cell_type": "markdown",
      "metadata": {
        "id": "4dkRG9fJEUaO",
        "colab_type": "text"
      },
      "source": [
        "**Normalize data**"
      ]
    },
    {
      "cell_type": "code",
      "metadata": {
        "id": "VSPSr-oQEUju",
        "colab_type": "code",
        "colab": {}
      },
      "source": [
        "#X = keras.utils.normalize(X, axis=-1, order=2)\n",
        "X = X/255.0"
      ],
      "execution_count": 0,
      "outputs": []
    },
    {
      "cell_type": "markdown",
      "metadata": {
        "id": "jOfTziokEZaT",
        "colab_type": "text"
      },
      "source": [
        "**Create the model 1**"
      ]
    },
    {
      "cell_type": "code",
      "metadata": {
        "id": "-fL_9V7aCqUq",
        "colab_type": "code",
        "colab": {}
      },
      "source": [
        "model = Sequential()\n",
        "try:\n",
        "  model.add(Conv2D(32,(3,3),input_shape = (500,500,3)))\n",
        "  model.add(Activation(\"relu\"))\n",
        "  model.add(Conv2D(32,(3,3)))\n",
        "  model.add(Activation(\"relu\"))\n",
        "  \n",
        "  model.add(MaxPooling2D(pool_size=(2,2)))\n",
        "  model.add(Dropout(0.2))\n",
        "\n",
        "  model.add(Conv2D(32,(3,3)))\n",
        "  model.add(Activation(\"relu\"))\n",
        "  model.add(Conv2D(32,(3,3)))\n",
        "  model.add(Activation(\"relu\"))\n",
        "  \n",
        "  model.add(MaxPooling2D(pool_size=(2,2)))\n",
        "  model.add(Dropout(0.2))\n",
        "\n",
        "  model.add(Conv2D(32,(3,3)))\n",
        "  model.add(Activation(\"relu\"))\n",
        "  model.add(Conv2D(32,(5,5)))\n",
        "  model.add(Activation(\"relu\"))\n",
        "  \n",
        "  model.add(MaxPooling2D(pool_size=(2,2)))\n",
        "  model.add(Dropout(0.2))\n",
        "\n",
        "  model.add(Flatten())\n",
        "  model.add(Dense(64))\n",
        "  model.add(Dropout(0.3))\n",
        "  \n",
        "  model.add(Dense(1))\n",
        "  model.add(Activation('sigmoid'))\n",
        "\n",
        "except Exception as e:\n",
        "  print(\"Error :\",str(e))"
      ],
      "execution_count": 0,
      "outputs": []
    },
    {
      "cell_type": "code",
      "metadata": {
        "id": "P45YZMdNA1OK",
        "colab_type": "code",
        "colab": {}
      },
      "source": [
        "#model.summary()\n",
        "with open('modelInitial.txt','w') as fh:\n",
        "    # Pass the file handle in as a lambda function to make it callable\n",
        "    model.summary(print_fn=lambda x: fh.write(x + '\\n'))"
      ],
      "execution_count": 0,
      "outputs": []
    },
    {
      "cell_type": "markdown",
      "metadata": {
        "id": "45bq7yxQ8DxO",
        "colab_type": "text"
      },
      "source": [
        "**Create model 2**"
      ]
    },
    {
      "cell_type": "code",
      "metadata": {
        "id": "gywiBrgA8C9i",
        "colab_type": "code",
        "colab": {}
      },
      "source": [
        "model = Sequential()\n",
        "try:\n",
        "  model.add(Conv2D(32,(3,3),input_shape = X.shape[1:]))\n",
        "  model.add(Activation(\"relu\"))\n",
        "  model.add(Conv2D(32,(1,1)))\n",
        "  model.add(Activation(\"relu\"))\n",
        "  \n",
        "  model.add(MaxPooling2D(pool_size=(2,2)))\n",
        "  model.add(Dropout(0.2))\n",
        "\n",
        "  model.add(Conv2D(32,(3,3)))\n",
        "  model.add(Activation(\"relu\"))\n",
        "  model.add(Conv2D(32,(1,1)))\n",
        "  model.add(Activation(\"relu\"))\n",
        "  \n",
        "  model.add(MaxPooling2D(pool_size=(2,2)))\n",
        "  model.add(Dropout(0.2))\n",
        "\n",
        "  model.add(Conv2D(32,(3,3)))\n",
        "  model.add(Activation(\"relu\"))\n",
        "  model.add(Conv2D(64,(3,3)))\n",
        "  model.add(Activation(\"relu\"))\n",
        "  \n",
        "  model.add(MaxPooling2D(pool_size=(2,2)))\n",
        "  model.add(Dropout(0.2))\n",
        "  \n",
        "  model.add(Flatten())\n",
        "  model.add(Dense(2))\n",
        "  model.add(Activation('softmax'))\n",
        "\n",
        "except Exception as e:\n",
        "  print(\"Error :\",str(e))"
      ],
      "execution_count": 0,
      "outputs": []
    },
    {
      "cell_type": "markdown",
      "metadata": {
        "id": "111ytEdBRW6S",
        "colab_type": "text"
      },
      "source": [
        "**Compile the model**"
      ]
    },
    {
      "cell_type": "code",
      "metadata": {
        "id": "3uzD9WivRXF6",
        "colab_type": "code",
        "colab": {}
      },
      "source": [
        "model.compile(loss='binary_crossentropy',\n",
        "               optimizer='adam',\n",
        "               metrics=['accuracy'])"
      ],
      "execution_count": 0,
      "outputs": []
    },
    {
      "cell_type": "markdown",
      "metadata": {
        "id": "zfJOFM1pRXSS",
        "colab_type": "text"
      },
      "source": [
        "**Train the model**"
      ]
    },
    {
      "cell_type": "code",
      "metadata": {
        "id": "bktfOQ7ERXcV",
        "colab_type": "code",
        "colab": {}
      },
      "source": [
        "model.fit(X,y,epochs=20,validation_split=0.1)"
      ],
      "execution_count": 0,
      "outputs": []
    },
    {
      "cell_type": "markdown",
      "metadata": {
        "id": "D2nfdFucEtuJ",
        "colab_type": "text"
      },
      "source": [
        "**Save the model**"
      ]
    },
    {
      "cell_type": "code",
      "metadata": {
        "colab_type": "code",
        "id": "UhRFUNZRaVVY",
        "colab": {}
      },
      "source": [
        "model.save('model.h5')"
      ],
      "execution_count": 0,
      "outputs": []
    },
    {
      "cell_type": "markdown",
      "metadata": {
        "id": "T7XnjShZEwtG",
        "colab_type": "text"
      },
      "source": [
        "**Load the model**"
      ]
    },
    {
      "cell_type": "code",
      "metadata": {
        "colab_type": "code",
        "id": "wd0PAUUNaVTg",
        "colab": {}
      },
      "source": [
        "model = tf.keras.models.load_model(\"model.h5\")"
      ],
      "execution_count": 0,
      "outputs": []
    }
  ]
}